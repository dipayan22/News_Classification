{
 "cells": [
  {
   "cell_type": "code",
   "execution_count": 2,
   "id": "5cf7db1a",
   "metadata": {},
   "outputs": [],
   "source": [
    "import pandas as pd\n",
    "import numpy as np\n",
    "import matplotlib.pyplot as plt\n",
    "import seaborn as sns\n",
    "\n",
    "import re\n",
    "import nltk\n",
    "from nltk.corpus import stopwords\n",
    "\n",
    "from nltk.stem import WordNetLemmatizer\n",
    "\n",
    "from nltk.tokenize import sent_tokenize,word_tokenize\n",
    "\n",
    "\n",
    "from sklearn.feature_extraction.text import CountVectorizer\n",
    "from sklearn.feature_extraction.text import TfidfVectorizer\n",
    "from sklearn.model_selection import train_test_split\n",
    "from sklearn.metrics import accuracy_score,confusion_matrix,classification_report\n",
    "\n",
    "from sklearn.linear_model import LogisticRegression\n",
    "from sklearn.svm import SVC, LinearSVC\n",
    "from sklearn.tree import DecisionTreeClassifier\n",
    "from sklearn.ensemble import RandomForestClassifier\n",
    "from sklearn.neighbors import KNeighborsClassifier\n",
    "from sklearn.naive_bayes import GaussianNB,MultinomialNB,BernoulliNB"
   ]
  },
  {
   "cell_type": "code",
   "execution_count": 3,
   "id": "51fb6cd0",
   "metadata": {},
   "outputs": [],
   "source": [
    "df=pd.read_csv('BBC News Train.csv')"
   ]
  },
  {
   "cell_type": "code",
   "execution_count": 4,
   "id": "df55dd1c",
   "metadata": {},
   "outputs": [
    {
     "data": {
      "text/html": [
       "<div>\n",
       "<style scoped>\n",
       "    .dataframe tbody tr th:only-of-type {\n",
       "        vertical-align: middle;\n",
       "    }\n",
       "\n",
       "    .dataframe tbody tr th {\n",
       "        vertical-align: top;\n",
       "    }\n",
       "\n",
       "    .dataframe thead th {\n",
       "        text-align: right;\n",
       "    }\n",
       "</style>\n",
       "<table border=\"1\" class=\"dataframe\">\n",
       "  <thead>\n",
       "    <tr style=\"text-align: right;\">\n",
       "      <th></th>\n",
       "      <th>ArticleId</th>\n",
       "      <th>Text</th>\n",
       "      <th>Category</th>\n",
       "    </tr>\n",
       "  </thead>\n",
       "  <tbody>\n",
       "    <tr>\n",
       "      <th>0</th>\n",
       "      <td>1833</td>\n",
       "      <td>worldcom ex-boss launches defence lawyers defe...</td>\n",
       "      <td>business</td>\n",
       "    </tr>\n",
       "    <tr>\n",
       "      <th>1</th>\n",
       "      <td>154</td>\n",
       "      <td>german business confidence slides german busin...</td>\n",
       "      <td>business</td>\n",
       "    </tr>\n",
       "    <tr>\n",
       "      <th>2</th>\n",
       "      <td>1101</td>\n",
       "      <td>bbc poll indicates economic gloom citizens in ...</td>\n",
       "      <td>business</td>\n",
       "    </tr>\n",
       "    <tr>\n",
       "      <th>3</th>\n",
       "      <td>1976</td>\n",
       "      <td>lifestyle  governs mobile choice  faster  bett...</td>\n",
       "      <td>tech</td>\n",
       "    </tr>\n",
       "    <tr>\n",
       "      <th>4</th>\n",
       "      <td>917</td>\n",
       "      <td>enron bosses in $168m payout eighteen former e...</td>\n",
       "      <td>business</td>\n",
       "    </tr>\n",
       "  </tbody>\n",
       "</table>\n",
       "</div>"
      ],
      "text/plain": [
       "   ArticleId                                               Text  Category\n",
       "0       1833  worldcom ex-boss launches defence lawyers defe...  business\n",
       "1        154  german business confidence slides german busin...  business\n",
       "2       1101  bbc poll indicates economic gloom citizens in ...  business\n",
       "3       1976  lifestyle  governs mobile choice  faster  bett...      tech\n",
       "4        917  enron bosses in $168m payout eighteen former e...  business"
      ]
     },
     "execution_count": 4,
     "metadata": {},
     "output_type": "execute_result"
    }
   ],
   "source": [
    "df.head()"
   ]
  },
  {
   "cell_type": "code",
   "execution_count": 5,
   "id": "20d63c70",
   "metadata": {},
   "outputs": [
    {
     "data": {
      "text/plain": [
       "(1490, 3)"
      ]
     },
     "execution_count": 5,
     "metadata": {},
     "output_type": "execute_result"
    }
   ],
   "source": [
    "df.shape"
   ]
  },
  {
   "cell_type": "code",
   "execution_count": 6,
   "id": "c18f7efb",
   "metadata": {},
   "outputs": [
    {
     "data": {
      "text/plain": [
       "sport            346\n",
       "business         336\n",
       "politics         274\n",
       "entertainment    273\n",
       "tech             261\n",
       "Name: Category, dtype: int64"
      ]
     },
     "execution_count": 6,
     "metadata": {},
     "output_type": "execute_result"
    }
   ],
   "source": [
    "df['Category'].value_counts()"
   ]
  },
  {
   "cell_type": "code",
   "execution_count": 7,
   "id": "8e08c8e3",
   "metadata": {},
   "outputs": [
    {
     "data": {
      "text/plain": [
       "Text(0.5, 1.0, 'Visulization of the data')"
      ]
     },
     "execution_count": 7,
     "metadata": {},
     "output_type": "execute_result"
    },
    {
     "data": {
      "image/png": "[encoded data removed]",
      "text/plain": [
       "<Figure size 640x480 with 1 Axes>"
      ]
     },
     "metadata": {},
     "output_type": "display_data"
    }
   ],
   "source": [
    "df['Category'].value_counts().plot(kind='bar',color=['red','green','blue','pink','orange'])\n",
    "plt.xlabel(\"Category of data\")\n",
    "plt.title(\"Visulization of the data\")"
   ]
  },
  {
   "cell_type": "code",
   "execution_count": 8,
   "id": "630818b1",
   "metadata": {},
   "outputs": [],
   "source": [
    "def remove_tags(text):\n",
    "    remove=re.compile(r'')\n",
    "    return re.sub(remove, '', text)\n",
    "\n",
    "df['Text'] = df['Text'].apply(remove_tags)"
   ]
  },
  {
   "cell_type": "code",
   "execution_count": 9,
   "id": "5abdad12",
   "metadata": {},
   "outputs": [],
   "source": [
    "# sport            346\n",
    "# business         336\n",
    "# politics         274\n",
    "# entertainment    273\n",
    "# tech             261\n",
    "\n"
   ]
  },
  {
   "cell_type": "code",
   "execution_count": 10,
   "id": "12b2eb83",
   "metadata": {},
   "outputs": [],
   "source": [
    "def remove_splchr(text):\n",
    "    cp=[]\n",
    "    text=text.split()\n",
    "    \n",
    "    for i in text:\n",
    "        if i.isalnum():\n",
    "            cp.append(i)\n",
    "        \n",
    "    return \" \".join(cp)\n",
    "\n",
    "df['Text']=df['Text'].apply(remove_splchr)\n",
    "    "
   ]
  },
  {
   "cell_type": "code",
   "execution_count": null,
   "id": "b5a9b25c",
   "metadata": {},
   "outputs": [],
   "source": []
  },
  {
   "cell_type": "code",
   "execution_count": 11,
   "id": "c48c21b1",
   "metadata": {},
   "outputs": [
    {
     "data": {
      "text/html": [
       "<div>\n",
       "<style scoped>\n",
       "    .dataframe tbody tr th:only-of-type {\n",
       "        vertical-align: middle;\n",
       "    }\n",
       "\n",
       "    .dataframe tbody tr th {\n",
       "        vertical-align: top;\n",
       "    }\n",
       "\n",
       "    .dataframe thead th {\n",
       "        text-align: right;\n",
       "    }\n",
       "</style>\n",
       "<table border=\"1\" class=\"dataframe\">\n",
       "  <thead>\n",
       "    <tr style=\"text-align: right;\">\n",
       "      <th></th>\n",
       "      <th>ArticleId</th>\n",
       "      <th>Text</th>\n",
       "      <th>Category</th>\n",
       "    </tr>\n",
       "  </thead>\n",
       "  <tbody>\n",
       "    <tr>\n",
       "      <th>0</th>\n",
       "      <td>1833</td>\n",
       "      <td>worldcom launches defence lawyers defending fo...</td>\n",
       "      <td>business</td>\n",
       "    </tr>\n",
       "    <tr>\n",
       "      <th>1</th>\n",
       "      <td>154</td>\n",
       "      <td>german business confidence slides german busin...</td>\n",
       "      <td>business</td>\n",
       "    </tr>\n",
       "    <tr>\n",
       "      <th>2</th>\n",
       "      <td>1101</td>\n",
       "      <td>bbc poll indicates economic gloom citizens in ...</td>\n",
       "      <td>business</td>\n",
       "    </tr>\n",
       "    <tr>\n",
       "      <th>3</th>\n",
       "      <td>1976</td>\n",
       "      <td>lifestyle governs mobile choice faster better ...</td>\n",
       "      <td>tech</td>\n",
       "    </tr>\n",
       "    <tr>\n",
       "      <th>4</th>\n",
       "      <td>917</td>\n",
       "      <td>enron bosses in payout eighteen former enron d...</td>\n",
       "      <td>business</td>\n",
       "    </tr>\n",
       "  </tbody>\n",
       "</table>\n",
       "</div>"
      ],
      "text/plain": [
       "   ArticleId                                               Text  Category\n",
       "0       1833  worldcom launches defence lawyers defending fo...  business\n",
       "1        154  german business confidence slides german busin...  business\n",
       "2       1101  bbc poll indicates economic gloom citizens in ...  business\n",
       "3       1976  lifestyle governs mobile choice faster better ...      tech\n",
       "4        917  enron bosses in payout eighteen former enron d...  business"
      ]
     },
     "execution_count": 11,
     "metadata": {},
     "output_type": "execute_result"
    }
   ],
   "source": [
    "df.head()"
   ]
  },
  {
   "cell_type": "code",
   "execution_count": 12,
   "id": "29478631",
   "metadata": {},
   "outputs": [],
   "source": [
    "df['Text']=df['Text'].str.lower()"
   ]
  },
  {
   "cell_type": "code",
   "execution_count": 13,
   "id": "db9f53a0",
   "metadata": {},
   "outputs": [],
   "source": [
    "def remove_stopwords(text):\n",
    "    stopword=set(stopwords.words('english'))\n",
    "    text=word_tokenize(text)\n",
    "    \n",
    "    return \" \".join([x for x in text if x not in stopword])\n",
    "\n",
    "df['Text']=df['Text'].apply(remove_stopwords)"
   ]
  },
  {
   "cell_type": "code",
   "execution_count": 14,
   "id": "5c143fc1",
   "metadata": {},
   "outputs": [
    {
     "data": {
      "text/html": [
       "<div>\n",
       "<style scoped>\n",
       "    .dataframe tbody tr th:only-of-type {\n",
       "        vertical-align: middle;\n",
       "    }\n",
       "\n",
       "    .dataframe tbody tr th {\n",
       "        vertical-align: top;\n",
       "    }\n",
       "\n",
       "    .dataframe thead th {\n",
       "        text-align: right;\n",
       "    }\n",
       "</style>\n",
       "<table border=\"1\" class=\"dataframe\">\n",
       "  <thead>\n",
       "    <tr style=\"text-align: right;\">\n",
       "      <th></th>\n",
       "      <th>ArticleId</th>\n",
       "      <th>Text</th>\n",
       "      <th>Category</th>\n",
       "    </tr>\n",
       "  </thead>\n",
       "  <tbody>\n",
       "    <tr>\n",
       "      <th>0</th>\n",
       "      <td>1833</td>\n",
       "      <td>worldcom launches defence lawyers defending fo...</td>\n",
       "      <td>business</td>\n",
       "    </tr>\n",
       "    <tr>\n",
       "      <th>1</th>\n",
       "      <td>154</td>\n",
       "      <td>german business confidence slides german busin...</td>\n",
       "      <td>business</td>\n",
       "    </tr>\n",
       "    <tr>\n",
       "      <th>2</th>\n",
       "      <td>1101</td>\n",
       "      <td>bbc poll indicates economic gloom citizens maj...</td>\n",
       "      <td>business</td>\n",
       "    </tr>\n",
       "    <tr>\n",
       "      <th>3</th>\n",
       "      <td>1976</td>\n",
       "      <td>lifestyle governs mobile choice faster better ...</td>\n",
       "      <td>tech</td>\n",
       "    </tr>\n",
       "    <tr>\n",
       "      <th>4</th>\n",
       "      <td>917</td>\n",
       "      <td>enron bosses payout eighteen former enron dire...</td>\n",
       "      <td>business</td>\n",
       "    </tr>\n",
       "  </tbody>\n",
       "</table>\n",
       "</div>"
      ],
      "text/plain": [
       "   ArticleId                                               Text  Category\n",
       "0       1833  worldcom launches defence lawyers defending fo...  business\n",
       "1        154  german business confidence slides german busin...  business\n",
       "2       1101  bbc poll indicates economic gloom citizens maj...  business\n",
       "3       1976  lifestyle governs mobile choice faster better ...      tech\n",
       "4        917  enron bosses payout eighteen former enron dire...  business"
      ]
     },
     "execution_count": 14,
     "metadata": {},
     "output_type": "execute_result"
    }
   ],
   "source": [
    "df.head()"
   ]
  },
  {
   "cell_type": "code",
   "execution_count": 15,
   "id": "e16427c1",
   "metadata": {},
   "outputs": [],
   "source": [
    "def lemmatize_word(text):\n",
    "  wordnet = WordNetLemmatizer()\n",
    "  return \" \".join([wordnet.lemmatize(word) for word in text.split()])\n",
    "\n",
    "df['Text']=df['Text'].apply(lemmatize_word)"
   ]
  },
  {
   "cell_type": "code",
   "execution_count": 16,
   "id": "94e37022",
   "metadata": {},
   "outputs": [
    {
     "data": {
      "text/html": [
       "<div>\n",
       "<style scoped>\n",
       "    .dataframe tbody tr th:only-of-type {\n",
       "        vertical-align: middle;\n",
       "    }\n",
       "\n",
       "    .dataframe tbody tr th {\n",
       "        vertical-align: top;\n",
       "    }\n",
       "\n",
       "    .dataframe thead th {\n",
       "        text-align: right;\n",
       "    }\n",
       "</style>\n",
       "<table border=\"1\" class=\"dataframe\">\n",
       "  <thead>\n",
       "    <tr style=\"text-align: right;\">\n",
       "      <th></th>\n",
       "      <th>ArticleId</th>\n",
       "      <th>Text</th>\n",
       "      <th>Category</th>\n",
       "    </tr>\n",
       "  </thead>\n",
       "  <tbody>\n",
       "    <tr>\n",
       "      <th>0</th>\n",
       "      <td>1833</td>\n",
       "      <td>worldcom launch defence lawyer defending forme...</td>\n",
       "      <td>business</td>\n",
       "    </tr>\n",
       "    <tr>\n",
       "      <th>1</th>\n",
       "      <td>154</td>\n",
       "      <td>german business confidence slide german busine...</td>\n",
       "      <td>business</td>\n",
       "    </tr>\n",
       "    <tr>\n",
       "      <th>2</th>\n",
       "      <td>1101</td>\n",
       "      <td>bbc poll indicates economic gloom citizen majo...</td>\n",
       "      <td>business</td>\n",
       "    </tr>\n",
       "    <tr>\n",
       "      <th>3</th>\n",
       "      <td>1976</td>\n",
       "      <td>lifestyle governs mobile choice faster better ...</td>\n",
       "      <td>tech</td>\n",
       "    </tr>\n",
       "    <tr>\n",
       "      <th>4</th>\n",
       "      <td>917</td>\n",
       "      <td>enron boss payout eighteen former enron direct...</td>\n",
       "      <td>business</td>\n",
       "    </tr>\n",
       "  </tbody>\n",
       "</table>\n",
       "</div>"
      ],
      "text/plain": [
       "   ArticleId                                               Text  Category\n",
       "0       1833  worldcom launch defence lawyer defending forme...  business\n",
       "1        154  german business confidence slide german busine...  business\n",
       "2       1101  bbc poll indicates economic gloom citizen majo...  business\n",
       "3       1976  lifestyle governs mobile choice faster better ...      tech\n",
       "4        917  enron boss payout eighteen former enron direct...  business"
      ]
     },
     "execution_count": 16,
     "metadata": {},
     "output_type": "execute_result"
    }
   ],
   "source": [
    "df.head()"
   ]
  },
  {
   "cell_type": "code",
   "execution_count": 22,
   "id": "59ae7103-cc8d-474d-864d-fb397721ad63",
   "metadata": {},
   "outputs": [],
   "source": [
    "df.rename(index={'business':2,'sport':1,'politics':3,'entertainment':4,'tech':5},inplace=True)"
   ]
  },
  {
   "cell_type": "code",
   "execution_count": 23,
   "id": "27e8a73e",
   "metadata": {},
   "outputs": [],
   "source": [
    "X=df['Text']\n",
    "y=df['Category']"
   ]
  },
  {
   "cell_type": "code",
   "execution_count": 24,
   "id": "058b8e6a",
   "metadata": {},
   "outputs": [
    {
     "data": {
      "text/plain": [
       "0       worldcom launch defence lawyer defending forme...\n",
       "1       german business confidence slide german busine...\n",
       "2       bbc poll indicates economic gloom citizen majo...\n",
       "3       lifestyle governs mobile choice faster better ...\n",
       "4       enron boss payout eighteen former enron direct...\n",
       "                              ...                        \n",
       "1485    double eviction big brother model caprice holb...\n",
       "1486    dj double act revamp chart show dj duo jk joel...\n",
       "1487    weak dollar hit reuters revenue medium group r...\n",
       "1488    apple ipod family expands market apple expande...\n",
       "1489    santy worm make unwelcome visit thousand websi...\n",
       "Name: Text, Length: 1490, dtype: object"
      ]
     },
     "execution_count": 24,
     "metadata": {},
     "output_type": "execute_result"
    }
   ],
   "source": [
    "X"
   ]
  },
  {
   "cell_type": "code",
   "execution_count": 25,
   "id": "d38805a6-e1b2-4061-80dc-0212f229a57c",
   "metadata": {},
   "outputs": [
    {
     "data": {
      "text/plain": [
       "0            business\n",
       "1            business\n",
       "2            business\n",
       "3                tech\n",
       "4            business\n",
       "            ...      \n",
       "1485    entertainment\n",
       "1486    entertainment\n",
       "1487         business\n",
       "1488             tech\n",
       "1489             tech\n",
       "Name: Category, Length: 1490, dtype: object"
      ]
     },
     "execution_count": 25,
     "metadata": {},
     "output_type": "execute_result"
    }
   ],
   "source": [
    "y"
   ]
  },
  {
   "cell_type": "code",
   "execution_count": 26,
   "id": "216f4b72",
   "metadata": {},
   "outputs": [],
   "source": [
    "X=np.array(X.values)"
   ]
  },
  {
   "cell_type": "code",
   "execution_count": 27,
   "id": "f986cea9",
   "metadata": {},
   "outputs": [],
   "source": [
    "y=np.array(y.values)"
   ]
  },
  {
   "cell_type": "code",
   "execution_count": 28,
   "id": "d8de8a90",
   "metadata": {},
   "outputs": [
    {
     "data": {
      "text/plain": [
       "array(['business', 'business', 'business', ..., 'business', 'tech',\n",
       "       'tech'], dtype=object)"
      ]
     },
     "execution_count": 28,
     "metadata": {},
     "output_type": "execute_result"
    }
   ],
   "source": [
    "y"
   ]
  },
  {
   "cell_type": "code",
   "execution_count": null,
   "id": "d34f8bc7-e8cf-413d-9b0e-63ffca578210",
   "metadata": {},
   "outputs": [],
   "source": []
  },
  {
   "cell_type": "code",
   "execution_count": 30,
   "id": "a37072de",
   "metadata": {},
   "outputs": [],
   "source": [
    "cv=CountVectorizer(max_features=5000)\n",
    "X=cv.fit_transform(df['Text']).toarray()"
   ]
  },
  {
   "cell_type": "code",
   "execution_count": 31,
   "id": "628f0f5d",
   "metadata": {},
   "outputs": [
    {
     "name": "stdout",
     "output_type": "stream",
     "text": [
      "X,shape :  (1490, 5000)\n",
      "y.value :  1490\n"
     ]
    }
   ],
   "source": [
    "print(\"X,shape : \",X.shape)\n",
    "print(\"y.value : \",len(y))"
   ]
  },
  {
   "cell_type": "code",
   "execution_count": 32,
   "id": "f3510d60",
   "metadata": {},
   "outputs": [
    {
     "name": "stdout",
     "output_type": "stream",
     "text": [
      "1043\n",
      "447\n"
     ]
    }
   ],
   "source": [
    "X_train, X_test, y_train, y_test = train_test_split(X, y, test_size = 0.3, random_state = 0, shuffle = True)\n",
    "print(len(X_train))\n",
    "print(len(X_test))"
   ]
  },
  {
   "cell_type": "code",
   "execution_count": 33,
   "id": "d7e8f00e",
   "metadata": {},
   "outputs": [],
   "source": [
    "from sklearn.metrics import precision_recall_fscore_support as score"
   ]
  },
  {
   "cell_type": "code",
   "execution_count": 34,
   "id": "3edfc70a",
   "metadata": {},
   "outputs": [
    {
     "name": "stdout",
     "output_type": "stream",
     "text": [
      "0.970917225950783\n",
      "0.970917225950783\n",
      "0.970917225950783\n",
      "0.9709172259507831\n"
     ]
    }
   ],
   "source": [
    "LR=LogisticRegression()\n",
    "LR.fit(X_train,y_train)\n",
    "y_pred=LR.predict(X_test)\n",
    "precision, recall, f1score, support = score(y_test, y_pred, average='micro')\n",
    "print(accuracy_score(y_test,y_pred))\n",
    "print(precision)\n",
    "print(recall)\n",
    "print(f1score)"
   ]
  },
  {
   "cell_type": "code",
   "execution_count": 96,
   "id": "701f8df1",
   "metadata": {},
   "outputs": [
    {
     "name": "stdout",
     "output_type": "stream",
     "text": [
      "0.9552572706935123\n",
      "0.9552572706935123\n",
      "0.9552572706935123\n",
      "0.9552572706935123\n"
     ]
    }
   ],
   "source": [
    "RNN=RandomForestClassifier(n_estimators=100,criterion='entropy',random_state=2)\n",
    "RNN.fit(X_train,y_train)\n",
    "y_pred=RNN.predict(X_test)\n",
    "precision, recall, f1score, support = score(y_test, y_pred, average='micro')\n",
    "print(accuracy_score(y_test,y_pred))\n",
    "print(precision)\n",
    "print(recall)\n",
    "print(f1score)"
   ]
  },
  {
   "cell_type": "code",
   "execution_count": 59,
   "id": "b0a67053",
   "metadata": {},
   "outputs": [
    {
     "name": "stdout",
     "output_type": "stream",
     "text": [
      "0.959731543624161\n",
      "0.959731543624161\n",
      "0.959731543624161\n",
      "0.959731543624161\n"
     ]
    }
   ],
   "source": [
    "MNB = MultinomialNB(alpha=1.0,fit_prior=True)\n",
    "\n",
    "MNB.fit(X_train,y_train)\n",
    "y_pred=MNB.predict(X_test)\n",
    "precision, recall, f1score, support = score(y_test, y_pred, average='micro')\n",
    "print(accuracy_score(y_test,y_pred))\n",
    "print(precision)\n",
    "print(recall)\n",
    "print(f1score)"
   ]
  },
  {
   "cell_type": "code",
   "execution_count": 60,
   "id": "6c9e2a31",
   "metadata": {},
   "outputs": [
    {
     "data": {
      "text/plain": [
       "'business'"
      ]
     },
     "execution_count": 60,
     "metadata": {},
     "output_type": "execute_result"
    }
   ],
   "source": [
    "y_pred[324]"
   ]
  },
  {
   "cell_type": "code",
   "execution_count": 61,
   "id": "bc9738c3",
   "metadata": {},
   "outputs": [
    {
     "data": {
      "text/plain": [
       "'business'"
      ]
     },
     "execution_count": 61,
     "metadata": {},
     "output_type": "execute_result"
    }
   ],
   "source": [
    "y_test[324]"
   ]
  },
  {
   "cell_type": "code",
   "execution_count": 128,
   "id": "e13eec45",
   "metadata": {},
   "outputs": [
    {
     "data": {
      "text/plain": [
       "'serena becomes world number two serena williams moved five place second world ranking australian open williams first grand slam title since 2003 victory lindsay davenport world number men champion marat safin remains fourth atp ranking beaten finalist lleyton hewitt replaces andy roddick world number roger federer retains top spot safin overtaken hewitt become new leader champion alicia molik lost thriller davenport woman top 10 first time rise mean australia player top 10 men woman ranking first time 21 britain elena baltacha qualified reached third round risen 120 world leap 65 place highest ranking'"
      ]
     },
     "execution_count": 128,
     "metadata": {},
     "output_type": "execute_result"
    }
   ],
   "source": [
    "df['Text'][22]"
   ]
  },
  {
   "cell_type": "code",
   "execution_count": 87,
   "id": "0b2acf7a-593b-458d-9ea7-f51682d2144d",
   "metadata": {},
   "outputs": [],
   "source": [
    "# entertainment new\n",
    "test=\"OMG 2 has made close to Rs 80 crore at the box office. Akshay Kumar and Pankaj Tripathi have a huge hit on their hands. The movie is going super steady at the box office. The collections might surge once again during the coming weekend. The best part is that the fans, critics and general public have said that the film deserves a U/A certificate to reach its target audience, the teens and audience. \"\n",
    "\n",
    "# political new\n",
    "test2=\"Top BJP leadership in Telangana is focusing on enrolling several political leaders from the erstwhile Adilabad district into the BJP in the presence of Union home minister Amit Shah on August 27.Party Telangana elections campaign committee chairman Etala Rajender is touring the erstwhile Adilabad district and holding discussions with leaders who worked with him during the Telangana agitation. He reached Nirmal on Thursday.\"\n",
    "\n",
    "# business news\n",
    "test3=\"Mahindra and Mahindra Ltd said on Friday it would inspect 1,08,306 units of its XUV700 sports utility vehicle manufactured between June 8, 2021 and June 28, 2023 for a potential risk of damage to the wiring loom.XUV is among SUVs such as Scorpio and Thar manufactured by Mahindra, India's second-largest maker of such vehicles by volume.\"\n",
    "\n",
    "#tech\n",
    "test4=\"Koo is not competing head-on against X (formerly Twitter), or even the recently-launched Threads by Meta, and is instead going after regional audiences with its language-based approach, co-founder of the homegrown platform, Aprameya Radhakrishna, has said. Radhakrishna said Koo can be social-media-as-a-service, tailoring itself in compliance with the laws of the country it operates in.\"\n",
    "\n",
    "#sports\n",
    "test5=\"Pace sensation Jasprit Bumrah ticked all the boxes on his much-anticipated return to lead India to a two-run win over Ireland by DLS Method in a rain-interrupted first T20I of the three-match series, in Dublin on Friday.Leading the side on his return after an 11-month injury layoff, Bumrah claimed 2 for 24 with nine dot balls and formed a formidable pair with T20I debutant Prasidh Krishna (2/32) to restrict Ireland to 139 for 7 after opting to bowl.\"\n",
    "\n",
    "\n"
   ]
  },
  {
   "cell_type": "code",
   "execution_count": 88,
   "id": "6519a370-ab2d-4ea3-82bb-c28236c4e851",
   "metadata": {},
   "outputs": [],
   "source": [
    "test5=remove_stopwords(test5)"
   ]
  },
  {
   "cell_type": "code",
   "execution_count": 89,
   "id": "8bd9da2c-a2f3-4cc7-94fc-fc43214b2f0e",
   "metadata": {},
   "outputs": [],
   "source": [
    "test5=lemmatize_word(test5)"
   ]
  },
  {
   "cell_type": "code",
   "execution_count": null,
   "id": "6e44e0b3-0fd1-49d1-84db-7f2a0d5b68a4",
   "metadata": {},
   "outputs": [],
   "source": []
  },
  {
   "cell_type": "code",
   "execution_count": null,
   "id": "768c4c86-209f-41cf-b033-b9bcf7f52afa",
   "metadata": {},
   "outputs": [],
   "source": []
  },
  {
   "cell_type": "code",
   "execution_count": 91,
   "id": "9856c200",
   "metadata": {},
   "outputs": [
    {
     "name": "stdout",
     "output_type": "stream",
     "text": [
      "['sport']\n"
     ]
    }
   ],
   "source": [
    "y_pred1 = cv.transform([test5])\n",
    "\n",
    "yy =MNB.predict(y_pred1)\n",
    "\n",
    "print(yy)\n",
    "# result = \"\"\n",
    "# if yy == [0]:\n",
    "#   result = \"Business News\"\n",
    "# elif yy == [1]:\n",
    "#   result = \"Tech News\"\n",
    "# elif yy == [2]:\n",
    "#   result = \"Politics News\"\n",
    "# elif yy == [3]:\n",
    "#   result = \"Sports News\"\n",
    "# elif yy == [1]:\n",
    "#   result = \"Entertainment News\"\n",
    "# print(result)"
   ]
  },
  {
   "cell_type": "code",
   "execution_count": null,
   "id": "0b1cc945",
   "metadata": {},
   "outputs": [],
   "source": []
  }
 ],
 "metadata": {
  "kernelspec": {
   "display_name": "Python 3 (ipykernel)",
   "language": "python",
   "name": "python3"
  },
  "language_info": {
   "codemirror_mode": {
    "name": "ipython",
    "version": 3
   },
   "file_extension": ".py",
   "mimetype": "text/x-python",
   "name": "python",
   "nbconvert_exporter": "python",
   "pygments_lexer": "ipython3",
   "version": "3.11.3"
  }
 },
 "nbformat": 4,
 "nbformat_minor": 5
}
